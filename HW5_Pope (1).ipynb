{
  "nbformat": 4,
  "nbformat_minor": 0,
  "metadata": {
    "colab": {
      "provenance": [],
      "machine_shape": "hm",
      "gpuType": "A100"
    },
    "kernelspec": {
      "name": "python3",
      "display_name": "Python 3"
    },
    "language_info": {
      "name": "python"
    },
    "accelerator": "GPU"
  },
  "cells": [
    {
      "cell_type": "code",
      "execution_count": null,
      "metadata": {
        "id": "sK1Z5_kuAVCL"
      },
      "outputs": [],
      "source": [
        "import torch\n",
        "from torchvision import datasets , transforms\n",
        "transform = transforms.Compose([transforms.ToTensor(), transforms.Normalize((0.5, ),\n",
        "(0.5,))])\n",
        "trainset = datasets.FashionMNIST('~/.pytorch/F_MNIST_data/', download=True, train=True, transform=transform)\n",
        "trainloader = torch.utils.data.DataLoader(trainset , batch_size =32, shuffle=True)\n",
        "testset = datasets.FashionMNIST('~/.pytorch/F_MNIST_data/', download=True, train=False, transform=transform)\n",
        "testloader = torch.utils.data.DataLoader(testset, batch_size=32, shuffle=False)"
      ]
    },
    {
      "cell_type": "code",
      "source": [
        "batch = next(iter(trainloader))\n",
        "print(batch[0].shape, batch[1].shape)"
      ],
      "metadata": {
        "colab": {
          "base_uri": "https://localhost:8080/"
        },
        "id": "QoQ-yS1PH6d2",
        "outputId": "c6835c9f-48e6-45a4-d6c5-970a1867f5f4"
      },
      "execution_count": null,
      "outputs": [
        {
          "output_type": "stream",
          "name": "stdout",
          "text": [
            "torch.Size([32, 1, 28, 28]) torch.Size([32])\n"
          ]
        }
      ]
    },
    {
      "cell_type": "code",
      "source": [
        "import matplotlib.pyplot as plt\n",
        "f, ax = plt.subplots(2, 5)\n",
        "plt.subplots_adjust(bottom=0.3, top=0.7, hspace=0)\n",
        "for i in range(2):\n",
        "  for j in range(5):\n",
        "    image, label = next(iter(trainloader))\n",
        "    ax[i][j].set_axis_off()\n",
        "    ax[i][j].imshow(image[0,0,:], cmap='gray')"
      ],
      "metadata": {
        "colab": {
          "base_uri": "https://localhost:8080/",
          "height": 218
        },
        "id": "rV0FNwNEIExz",
        "outputId": "6d331143-cb11-49d2-b678-f4836dde420b"
      },
      "execution_count": null,
      "outputs": [
        {
          "output_type": "display_data",
          "data": {
            "text/plain": [
              "<Figure size 640x480 with 10 Axes>"
            ],
            "image/png": "[encoded data removed]"
          },
          "metadata": {}
        }
      ]
    },
    {
      "cell_type": "code",
      "source": [
        "import torch\n",
        "import torch.nn as nn\n",
        "import torch.optim as optim\n",
        "import numpy as np\n",
        "import torch.nn.functional as F\n",
        "from tqdm import tqdm"
      ],
      "metadata": {
        "id": "FPTpaW2uQoVO"
      },
      "execution_count": null,
      "outputs": []
    },
    {
      "cell_type": "code",
      "source": [
        "model = nn.Sequential(\n",
        "    nn.Flatten(),\n",
        "    nn.Linear(784, 32),  # Input layer to hidden layer\n",
        "    nn.ReLU(),                        # ReLU activation function\n",
        "    nn.Linear(32, 784))  # Hidden layer to output layer\n"
      ],
      "metadata": {
        "id": "1Y_v8MXViuvj"
      },
      "execution_count": null,
      "outputs": []
    },
    {
      "cell_type": "code",
      "source": [
        "model2 = nn.Sequential(\n",
        "    nn.Flatten(),\n",
        "    nn.Linear(784, 100),  # Input layer to hidden layer\n",
        "    nn.ReLU(),                        # ReLU activation function\n",
        "    nn.Linear(100, 784))  # Hidden layer to output layer"
      ],
      "metadata": {
        "id": "-EovpW9DkPHC"
      },
      "execution_count": null,
      "outputs": []
    },
    {
      "cell_type": "code",
      "source": [
        "model3 = nn.Sequential(\n",
        "    nn.Flatten(),\n",
        "    nn.Linear(784, 256),  # Input layer to hidden layer\n",
        "    nn.ReLU(),                        # ReLU activation function\n",
        "    nn.Linear(256, 784))  # Hidden layer to output layer"
      ],
      "metadata": {
        "id": "x8lPcSinnHSf"
      },
      "execution_count": null,
      "outputs": []
    },
    {
      "cell_type": "code",
      "source": [
        "model4 = nn.Sequential(\n",
        "    nn.Flatten(),\n",
        "    nn.Linear(784, 100),\n",
        "    nn.Linear(100,64),\n",
        "    nn.ReLU(),\n",
        "    nn.Linear(64,100),\n",
        "    nn.Linear(100, 784))"
      ],
      "metadata": {
        "id": "5gqKW4vMnPHf"
      },
      "execution_count": null,
      "outputs": []
    },
    {
      "cell_type": "code",
      "source": [
        "model5 = nn.Sequential(\n",
        "    nn.Flatten(),\n",
        "    nn.Linear(784, 256),\n",
        "    nn.Linear(256,128),\n",
        "    nn.ReLU(),\n",
        "    nn.Linear(128,256),\n",
        "    nn.Linear(256, 784))"
      ],
      "metadata": {
        "id": "bWc-OqRWng10"
      },
      "execution_count": null,
      "outputs": []
    },
    {
      "cell_type": "code",
      "source": [
        "criterion = nn.CrossEntropyLoss()\n",
        "optimizer = optim.SGD(model.parameters(), lr=0.01)\n",
        "\n",
        "epochs = 50\n",
        "loss_array = []\n",
        "model.train()\n",
        "for i in tqdm(range(epochs)):\n",
        "  for images, labels in trainloader:\n",
        "    optimizer.zero_grad()\n",
        "    # flat = images.view(images.shape[0],-1)\n",
        "    log_ps = model(images)\n",
        "    loss = criterion(log_ps,labels)\n",
        "    loss_array.append(loss.detach().numpy())\n",
        "    loss.backward()\n",
        "    optimizer.step()\n"
      ],
      "metadata": {
        "colab": {
          "base_uri": "https://localhost:8080/"
        },
        "id": "Y9T2PCscbbdt",
        "outputId": "209b26dc-1a39-4501-abd1-a2b313d5c522"
      },
      "execution_count": null,
      "outputs": [
        {
          "output_type": "stream",
          "name": "stderr",
          "text": [
            "100%|██████████| 50/50 [11:36<00:00, 13.93s/it]\n"
          ]
        }
      ]
    },
    {
      "cell_type": "code",
      "source": [
        "model.eval()\n",
        "with torch.no_grad():\n",
        "  for images, labels in testloader:\n",
        "    outputs = model(images)\n",
        "    _, predicted = torch.max(outputs, axis=1)\n",
        "    accuracy = (predicted.numpy() == labels.detach().numpy()).sum().item() / labels.shape[0]\n",
        "\n",
        "print(f\"Accuracy: {accuracy * 100:.2f}%\")"
      ],
      "metadata": {
        "colab": {
          "base_uri": "https://localhost:8080/"
        },
        "id": "lXFaKCqB7Efy",
        "outputId": "44e1472b-bb72-465d-cdcc-4ad6591fe44d"
      },
      "execution_count": null,
      "outputs": [
        {
          "output_type": "stream",
          "name": "stdout",
          "text": [
            "Accuracy: 87.50%\n"
          ]
        }
      ]
    },
    {
      "cell_type": "code",
      "source": [
        "optimizer = optim.SGD(model2.parameters(), lr=0.01)\n",
        "epochs = 50\n",
        "loss_array2 = []\n",
        "model2.train()\n",
        "for i in tqdm(range(epochs)):\n",
        "  for images, labels in trainloader:\n",
        "    optimizer.zero_grad()\n",
        "    # flat = images.view(images.shape[0],-1)\n",
        "    log_ps = model2(images)\n",
        "    loss = criterion(log_ps,labels)\n",
        "    loss_array2.append(loss.detach().numpy())\n",
        "    loss.backward()\n",
        "    optimizer.step()"
      ],
      "metadata": {
        "colab": {
          "base_uri": "https://localhost:8080/"
        },
        "id": "qjvcG7wA6ve1",
        "outputId": "c299c9d4-4d00-483e-fd40-9431fca3d273"
      },
      "execution_count": null,
      "outputs": [
        {
          "output_type": "stream",
          "name": "stderr",
          "text": [
            "100%|██████████| 50/50 [11:57<00:00, 14.35s/it]\n"
          ]
        }
      ]
    },
    {
      "cell_type": "code",
      "source": [
        "model2.eval()\n",
        "with torch.no_grad():\n",
        "  for images, labels in testloader:\n",
        "    outputs = model2(images)\n",
        "    _, predicted = torch.max(outputs, axis=1)\n",
        "    accuracy = (predicted.numpy() == labels.detach().numpy()).sum().item() / labels.shape[0]\n",
        "\n",
        "print(f\"Accuracy: {accuracy * 100:.2f}%\")"
      ],
      "metadata": {
        "colab": {
          "base_uri": "https://localhost:8080/"
        },
        "id": "mbexwIk37FlN",
        "outputId": "d90bc0f5-8043-4109-bd3c-24beb38ed97e"
      },
      "execution_count": null,
      "outputs": [
        {
          "output_type": "stream",
          "name": "stdout",
          "text": [
            "Accuracy: 93.75%\n"
          ]
        }
      ]
    },
    {
      "cell_type": "code",
      "source": [
        "optimizer = optim.SGD(model3.parameters(), lr=0.01)\n",
        "epochs = 50\n",
        "loss_array2 = []\n",
        "for i in tqdm(range(epochs)):\n",
        "  for images, labels in trainloader:\n",
        "    optimizer.zero_grad()\n",
        "    # flat = images.view(images.shape[0],-1)\n",
        "    log_ps = model3(images)\n",
        "    loss = criterion(log_ps,labels)\n",
        "    loss_array.append(loss.detach().numpy())\n",
        "    loss.backward()\n",
        "    optimizer.step()"
      ],
      "metadata": {
        "colab": {
          "base_uri": "https://localhost:8080/"
        },
        "id": "CKfwj-Ua68KA",
        "outputId": "1e308589-02b0-4fc6-9d5f-f8f0ec43cd48"
      },
      "execution_count": null,
      "outputs": [
        {
          "output_type": "stream",
          "name": "stderr",
          "text": [
            "100%|██████████| 50/50 [12:13<00:00, 14.68s/it]\n"
          ]
        }
      ]
    },
    {
      "cell_type": "code",
      "source": [
        "model3.eval()\n",
        "with torch.no_grad():\n",
        "  for images, labels in testloader:\n",
        "    outputs = model3(images)\n",
        "    _, predicted = torch.max(outputs, axis=1)\n",
        "    accuracy = (predicted.numpy() == labels.detach().numpy()).sum().item() / labels.shape[0]\n",
        "\n",
        "print(f\"Accuracy: {accuracy * 100:.2f}%\")"
      ],
      "metadata": {
        "colab": {
          "base_uri": "https://localhost:8080/"
        },
        "id": "d0-qUyes7jYD",
        "outputId": "f52eb0a6-fb3c-42ae-aab5-f390d5aa68b5"
      },
      "execution_count": null,
      "outputs": [
        {
          "output_type": "stream",
          "name": "stdout",
          "text": [
            "Accuracy: 100.00%\n"
          ]
        }
      ]
    },
    {
      "cell_type": "code",
      "source": [
        "optimizer = optim.SGD(model4.parameters(), lr=0.01)\n",
        "epochs = 50\n",
        "loss_array4 = []\n",
        "model4.train()\n",
        "for i in tqdm(range(epochs)):\n",
        "  for images, labels in trainloader:\n",
        "    optimizer.zero_grad()\n",
        "    # flat = images.view(images.shape[0],-1)\n",
        "    log_ps = model4(images)\n",
        "    loss = criterion(log_ps,labels)\n",
        "    loss_array4.append(loss.detach().numpy())\n",
        "    loss.backward()\n",
        "    optimizer.step()"
      ],
      "metadata": {
        "colab": {
          "base_uri": "https://localhost:8080/"
        },
        "id": "PR97ErpZ6-qO",
        "outputId": "f9271e47-f4b1-469b-d898-14ee72bbca35"
      },
      "execution_count": null,
      "outputs": [
        {
          "output_type": "stream",
          "name": "stderr",
          "text": [
            "100%|██████████| 50/50 [12:34<00:00, 15.10s/it]\n"
          ]
        }
      ]
    },
    {
      "cell_type": "code",
      "source": [
        "model4.eval()\n",
        "with torch.no_grad():\n",
        "  for images, labels in testloader:\n",
        "    outputs = model4(images)\n",
        "    _, predicted = torch.max(outputs, axis=1)\n",
        "    accuracy = (predicted.numpy() == labels.detach().numpy()).sum().item() / labels.shape[0]\n",
        "\n",
        "print(f\"Accuracy: {accuracy * 100:.2f}%\")"
      ],
      "metadata": {
        "colab": {
          "base_uri": "https://localhost:8080/"
        },
        "id": "Y-3Qra3x7lGF",
        "outputId": "9a7c7f90-52cf-4141-ba7f-b726e4390348"
      },
      "execution_count": null,
      "outputs": [
        {
          "output_type": "stream",
          "name": "stdout",
          "text": [
            "Accuracy: 93.75%\n"
          ]
        }
      ]
    },
    {
      "cell_type": "code",
      "source": [
        "optimizer = optim.SGD(model5.parameters(), lr=0.01)\n",
        "epochs = 50\n",
        "loss_array5 = []\n",
        "model5.train()\n",
        "for i in tqdm(range(epochs)):\n",
        "  for images, labels in trainloader:\n",
        "    optimizer.zero_grad()\n",
        "    # flat = images.view(images.shape[0],-1)\n",
        "    log_ps = model5(images)\n",
        "    loss = criterion(log_ps,labels)\n",
        "    loss_array5.append(loss.detach().numpy())\n",
        "    loss.backward()\n",
        "    optimizer.step()"
      ],
      "metadata": {
        "colab": {
          "base_uri": "https://localhost:8080/"
        },
        "id": "ZGWACUQ56_3d",
        "outputId": "48a8600d-b78a-498f-f0b1-6184cf16109a"
      },
      "execution_count": null,
      "outputs": [
        {
          "output_type": "stream",
          "name": "stderr",
          "text": [
            "100%|██████████| 50/50 [12:54<00:00, 15.49s/it]\n"
          ]
        }
      ]
    },
    {
      "cell_type": "code",
      "source": [
        "model5.eval()\n",
        "with torch.no_grad():\n",
        "  for images, labels in testloader:\n",
        "    outputs = model5(images)\n",
        "    _, predicted = torch.max(outputs, axis=1)\n",
        "    accuracy = (predicted.numpy() == labels.detach().numpy()).sum().item() / labels.shape[0]\n",
        "\n",
        "print(f\"Accuracy: {accuracy * 100:.2f}%\")"
      ],
      "metadata": {
        "colab": {
          "base_uri": "https://localhost:8080/"
        },
        "id": "IwK2rW7x7m52",
        "outputId": "9c19188d-7660-4e4f-a3be-0365db7ff538"
      },
      "execution_count": null,
      "outputs": [
        {
          "output_type": "stream",
          "name": "stdout",
          "text": [
            "Accuracy: 87.50%\n"
          ]
        }
      ]
    },
    {
      "cell_type": "code",
      "source": [
        "model3_tanh = nn.Sequential(\n",
        "    nn.Flatten(),\n",
        "    nn.Linear(784, 256),  # Input layer to hidden layer\n",
        "    nn.Tanh(),                        # ReLU activation function\n",
        "    nn.Linear(256, 784))  # Hidden layer to output layer"
      ],
      "metadata": {
        "id": "XRdWJXQz95jI"
      },
      "execution_count": null,
      "outputs": []
    },
    {
      "cell_type": "code",
      "source": [
        "model3_sigmoid = nn.Sequential(\n",
        "    nn.Flatten(),\n",
        "    nn.Linear(784, 256),  # Input layer to hidden layer\n",
        "    nn.Sigmoid(),                        # ReLU activation function\n",
        "    nn.Linear(256, 784))  # Hidden layer to output layer"
      ],
      "metadata": {
        "id": "X7UhmZB0NgS_"
      },
      "execution_count": null,
      "outputs": []
    },
    {
      "cell_type": "code",
      "source": [
        "model3_elu = nn.Sequential(\n",
        "    nn.Flatten(),\n",
        "    nn.Linear(784, 256),  # Input layer to hidden layer\n",
        "    nn.ELU(),                        # ReLU activation function\n",
        "    nn.Linear(256, 784))  # Hidden layer to output layer"
      ],
      "metadata": {
        "id": "_SVEhQK7WAnP"
      },
      "execution_count": null,
      "outputs": []
    },
    {
      "cell_type": "code",
      "source": [
        "optimizer = optim.SGD(model3_tanh.parameters(), lr=0.01)\n",
        "epochs = 50\n",
        "loss_array5 = []\n",
        "model3_tanh.train()\n",
        "for i in tqdm(range(epochs)):\n",
        "  for images, labels in trainloader:\n",
        "    optimizer.zero_grad()\n",
        "    # flat = images.view(images.shape[0],-1)\n",
        "    log_ps = model3_tanh(images)\n",
        "    loss = criterion(log_ps,labels)\n",
        "    loss_array5.append(loss.detach().numpy())\n",
        "    loss.backward()\n",
        "    optimizer.step()"
      ],
      "metadata": {
        "colab": {
          "base_uri": "https://localhost:8080/"
        },
        "id": "DTdiUP25WLl9",
        "outputId": "c94cd7cc-60ae-469a-851e-1c17b23b291e"
      },
      "execution_count": null,
      "outputs": [
        {
          "output_type": "stream",
          "name": "stderr",
          "text": [
            "100%|██████████| 50/50 [12:22<00:00, 14.86s/it]\n"
          ]
        }
      ]
    },
    {
      "cell_type": "code",
      "source": [
        "model3_tanh.eval()\n",
        "with torch.no_grad():\n",
        "  for images, labels in testloader:\n",
        "    outputs = model3_tanh(images)\n",
        "    _, predicted = torch.max(outputs, axis=1)\n",
        "    accuracy = (predicted.numpy() == labels.detach().numpy()).sum().item() / labels.shape[0]\n",
        "\n",
        "print(f\"Accuracy: {accuracy * 100:.2f}%\")"
      ],
      "metadata": {
        "colab": {
          "base_uri": "https://localhost:8080/"
        },
        "id": "2I9wuMInWRqb",
        "outputId": "41b31b44-5bda-428f-ce8f-dc579afc1b71"
      },
      "execution_count": null,
      "outputs": [
        {
          "output_type": "stream",
          "name": "stdout",
          "text": [
            "Accuracy: 100.00%\n"
          ]
        }
      ]
    },
    {
      "cell_type": "code",
      "source": [
        "optimizer = optim.SGD(model3_sigmoid.parameters(), lr=0.01)\n",
        "epochs = 50\n",
        "loss_array5 = []\n",
        "model3_sigmoid.train()\n",
        "for i in tqdm(range(epochs)):\n",
        "  for images, labels in trainloader:\n",
        "    optimizer.zero_grad()\n",
        "    # flat = images.view(images.shape[0],-1)\n",
        "    log_ps = model3_sigmoid(images)\n",
        "    loss = criterion(log_ps,labels)\n",
        "    loss_array5.append(loss.detach().numpy())\n",
        "    loss.backward()\n",
        "    optimizer.step()"
      ],
      "metadata": {
        "colab": {
          "base_uri": "https://localhost:8080/"
        },
        "id": "BNCdhgHQWXYi",
        "outputId": "71daac74-341a-430a-bdb0-f3c69bc391e7"
      },
      "execution_count": null,
      "outputs": [
        {
          "output_type": "stream",
          "name": "stderr",
          "text": [
            "100%|██████████| 50/50 [12:22<00:00, 14.85s/it]\n"
          ]
        }
      ]
    },
    {
      "cell_type": "code",
      "source": [
        "model3_sigmoid.eval()\n",
        "with torch.no_grad():\n",
        "  for images, labels in testloader:\n",
        "    outputs = model3_sigmoid(images)\n",
        "    _, predicted = torch.max(outputs, axis=1)\n",
        "    accuracy = (predicted.numpy() == labels.detach().numpy()).sum().item() / labels.shape[0]\n",
        "\n",
        "print(f\"Accuracy: {accuracy * 100:.2f}%\")"
      ],
      "metadata": {
        "colab": {
          "base_uri": "https://localhost:8080/"
        },
        "id": "R_hWD7kNWehL",
        "outputId": "03e3f9eb-298f-4c64-8636-aaaa360e5782"
      },
      "execution_count": null,
      "outputs": [
        {
          "output_type": "stream",
          "name": "stdout",
          "text": [
            "Accuracy: 87.50%\n"
          ]
        }
      ]
    },
    {
      "cell_type": "code",
      "source": [
        "optimizer = optim.SGD(model3_elu.parameters(), lr=0.01)\n",
        "epochs = 50\n",
        "loss_array5 = []\n",
        "model3_elu.train()\n",
        "for i in tqdm(range(epochs)):\n",
        "  for images, labels in trainloader:\n",
        "    optimizer.zero_grad()\n",
        "    # flat = images.view(images.shape[0],-1)\n",
        "    log_ps = model3_elu(images)\n",
        "    loss = criterion(log_ps,labels)\n",
        "    loss_array5.append(loss.detach().numpy())\n",
        "    loss.backward()\n",
        "    optimizer.step()"
      ],
      "metadata": {
        "colab": {
          "base_uri": "https://localhost:8080/"
        },
        "id": "TaKzfOSuWiGT",
        "outputId": "bbda71ee-583d-4dae-bd0c-4e3d46b366df"
      },
      "execution_count": null,
      "outputs": [
        {
          "output_type": "stream",
          "name": "stderr",
          "text": [
            "100%|██████████| 50/50 [12:18<00:00, 14.76s/it]\n"
          ]
        }
      ]
    },
    {
      "cell_type": "code",
      "source": [
        "model3_elu.eval()\n",
        "with torch.no_grad():\n",
        "  for images, labels in testloader:\n",
        "    outputs = model3_elu(images)\n",
        "    _, predicted = torch.max(outputs, axis=1)\n",
        "    accuracy = (predicted.numpy() == labels.detach().numpy()).sum().item() / labels.shape[0]\n",
        "\n",
        "print(f\"Accuracy: {accuracy * 100:.2f}%\")"
      ],
      "metadata": {
        "colab": {
          "base_uri": "https://localhost:8080/"
        },
        "id": "5CENbxtHWo-d",
        "outputId": "52428680-ae2e-4b05-e3cf-91b4810d1f5e"
      },
      "execution_count": null,
      "outputs": [
        {
          "output_type": "stream",
          "name": "stdout",
          "text": [
            "Accuracy: 93.75%\n"
          ]
        }
      ]
    },
    {
      "cell_type": "code",
      "source": [
        "model_cnn = nn.Sequential(\n",
        "    nn.Conv2d(in_channels = 1, out_channels = 32, kernel_size = 5, padding = 2),\n",
        "    nn.MaxPool2d(2),\n",
        "    nn.Flatten(),\n",
        "    nn.Linear(6272,100),\n",
        "    nn.ReLU(),\n",
        "    nn.Linear(100,10),\n",
        "    nn.Softmax()\n",
        ")"
      ],
      "metadata": {
        "id": "rHU2Zxlef36E"
      },
      "execution_count": null,
      "outputs": []
    },
    {
      "cell_type": "code",
      "source": [
        "optimizer = optim.SGD(model_cnn.parameters(), lr=0.01, momentum=0.9)"
      ],
      "metadata": {
        "id": "yqDZYaqNl2pv"
      },
      "execution_count": null,
      "outputs": []
    },
    {
      "cell_type": "code",
      "source": [
        "epochs = 10\n",
        "loss_array_cnn = []\n",
        "model_cnn.train()\n",
        "for i in tqdm(range(epochs)):\n",
        "  for images, labels in trainloader:\n",
        "    optimizer.zero_grad()\n",
        "    # flat = images.view(images.shape[0],-1)\n",
        "    log_ps = model_cnn(images)\n",
        "    loss = criterion(log_ps,labels)\n",
        "    loss_array_cnn.append(loss.detach().numpy())\n",
        "    loss.backward()\n",
        "    optimizer.step()"
      ],
      "metadata": {
        "colab": {
          "base_uri": "https://localhost:8080/"
        },
        "id": "PGqo--VMrM9g",
        "outputId": "3438bce1-95c5-4c01-812a-b825e5d36932"
      },
      "execution_count": null,
      "outputs": [
        {
          "output_type": "stream",
          "name": "stderr",
          "text": [
            "\r  0%|          | 0/10 [00:00<?, ?it/s]/usr/local/lib/python3.10/dist-packages/torch/nn/modules/module.py:1518: UserWarning: Implicit dimension choice for softmax has been deprecated. Change the call to include dim=X as an argument.\n",
            "  return self._call_impl(*args, **kwargs)\n",
            "100%|██████████| 10/10 [03:17<00:00, 19.73s/it]\n"
          ]
        }
      ]
    },
    {
      "cell_type": "code",
      "source": [
        "model_cnn.eval()\n",
        "with torch.no_grad():\n",
        "  for images, labels in testloader:\n",
        "    outputs = model_cnn(images)\n",
        "    _, predicted = torch.max(outputs, axis=1)\n",
        "    accuracy = (predicted.numpy() == labels.detach().numpy()).sum().item() / labels.shape[0]\n",
        "\n",
        "print(f\"Accuracy: {accuracy * 100:.2f}%\")"
      ],
      "metadata": {
        "colab": {
          "base_uri": "https://localhost:8080/"
        },
        "id": "UD4NS3FIrdoM",
        "outputId": "a1f92e7e-8b4d-4ce3-c12b-64fc0191554a"
      },
      "execution_count": null,
      "outputs": [
        {
          "output_type": "stream",
          "name": "stderr",
          "text": [
            "/usr/local/lib/python3.10/dist-packages/torch/nn/modules/module.py:1518: UserWarning: Implicit dimension choice for softmax has been deprecated. Change the call to include dim=X as an argument.\n",
            "  return self._call_impl(*args, **kwargs)\n"
          ]
        },
        {
          "output_type": "stream",
          "name": "stdout",
          "text": [
            "Accuracy: 87.50%\n"
          ]
        }
      ]
    },
    {
      "cell_type": "code",
      "source": [
        "from torch.utils.data.sampler import SubsetRandomSampler"
      ],
      "metadata": {
        "id": "JrqdVhgbuDRi"
      },
      "execution_count": null,
      "outputs": []
    },
    {
      "cell_type": "code",
      "source": [
        "indices = list(range(len(trainset)))\n",
        "np.random.shuffle(indices)\n",
        "split = int(np.floor(.2*len(trainset)))\n",
        "train_sample = SubsetRandomSampler(indices[:split])\n",
        "valid_sample = SubsetRandomSampler(indices[split:])\n"
      ],
      "metadata": {
        "id": "HR1lRxsbtIWf"
      },
      "execution_count": null,
      "outputs": []
    },
    {
      "cell_type": "code",
      "source": [
        "trainloader_2 = torch.utils.data.DataLoader(trainset,sampler=train_sample , batch_size =32)\n",
        "validloader = torch.utils.data.DataLoader(trainset, sampler = valid_sample , batch_size =32)"
      ],
      "metadata": {
        "id": "z37zzfk1uUQj"
      },
      "execution_count": null,
      "outputs": []
    },
    {
      "cell_type": "code",
      "source": [
        "from keras.models import Sequential\n",
        "from keras.layers import Conv2D\n",
        "from keras.layers import MaxPooling2D\n",
        "from keras.layers import Dense\n",
        "from keras.layers import Flatten\n",
        "from keras.optimizers import SGD"
      ],
      "metadata": {
        "id": "HgI5vGps3_EL"
      },
      "execution_count": null,
      "outputs": []
    },
    {
      "cell_type": "code",
      "source": [
        "epochs = 50\n",
        "t_accuracy_10 = []\n",
        "v_accuracy_10 = []\n",
        "total_samples_train = 0\n",
        "total_correct_train = 0\n",
        "total_correct_val = 0\n",
        "total_samples_val = 0\n",
        "for j in tqdm(range(epochs)):\n",
        "  correct = 0\n",
        "  model_cnn.train()\n",
        "  for inputs, labels in trainloader_2:\n",
        "    optimizer.zero_grad()\n",
        "    log_ps = model_cnn(images)\n",
        "    loss = criterion(log_ps,labels)\n",
        "    loss.backward()\n",
        "    optimizer.step()\n",
        "    _, predicted = torch.max(outputs, 1)\n",
        "    total_samples_train += labels.size(0)\n",
        "    total_correct_train += (predicted == labels).sum().item()\n",
        "  train_accuracy = total_correct_train / total_samples_train\n",
        "  if j%10 == 0 and j != 0:\n",
        "    t_accuracy_10.append(train_accuracy)\n",
        "    model_cnn.eval()\n",
        "    with torch.no_grad():\n",
        "        for inputs, labels in validloader:\n",
        "          outputs = model_cnn(inputs)\n",
        "          _, predicted = torch.max(outputs, 1)\n",
        "          total_samples_val += labels.size(0)\n",
        "          total_correct_val += (predicted == labels).sum().item()\n",
        "\n",
        "    val_accuracy = total_correct_val / total_samples_val\n",
        "    v_accuracy_10.append(val_accuracy)"
      ],
      "metadata": {
        "colab": {
          "base_uri": "https://localhost:8080/"
        },
        "id": "31PSeCMhutE_",
        "outputId": "a25336bf-9ad2-49b0-b00b-837adc506f31"
      },
      "execution_count": null,
      "outputs": [
        {
          "output_type": "stream",
          "name": "stderr",
          "text": [
            "\r  0%|          | 0/50 [00:00<?, ?it/s]/usr/local/lib/python3.10/dist-packages/torch/nn/modules/module.py:1518: UserWarning: Implicit dimension choice for softmax has been deprecated. Change the call to include dim=X as an argument.\n",
            "  return self._call_impl(*args, **kwargs)\n",
            "100%|██████████| 50/50 [04:11<00:00,  5.03s/it]\n"
          ]
        }
      ]
    },
    {
      "cell_type": "code",
      "source": [
        "print(t_accuracy_10)\n",
        "print(v_accuracy_10)"
      ],
      "metadata": {
        "colab": {
          "base_uri": "https://localhost:8080/"
        },
        "id": "-kDi7Detv25S",
        "outputId": "5f4ba26c-8a2c-41b1-9af2-2a9436803928"
      },
      "execution_count": null,
      "outputs": [
        {
          "output_type": "stream",
          "name": "stdout",
          "text": [
            "[0.09805303030303031, 0.09826587301587301, 0.09808064516129032, 0.09796138211382113]\n",
            "[0.16527083333333334, 0.16527083333333334, 0.16527083333333334, 0.16527083333333334]\n"
          ]
        }
      ]
    },
    {
      "cell_type": "code",
      "source": [
        "plt.plot(t_accuracy_10)"
      ],
      "metadata": {
        "colab": {
          "base_uri": "https://localhost:8080/",
          "height": 447
        },
        "id": "3negFSD-3j6G",
        "outputId": "866064b1-7152-472a-b3d5-625afe324e79"
      },
      "execution_count": null,
      "outputs": [
        {
          "output_type": "execute_result",
          "data": {
            "text/plain": [
              "[<matplotlib.lines.Line2D at 0x7f92ec2530d0>]"
            ]
          },
          "metadata": {},
          "execution_count": 111
        },
        {
          "output_type": "display_data",
          "data": {
            "text/plain": [
              "<Figure size 640x480 with 1 Axes>"
            ],
            "image/png": "[encoded data removed]"
          },
          "metadata": {}
        }
      ]
    },
    {
      "cell_type": "code",
      "source": [
        "plt.plot(v_accuracy_10)"
      ],
      "metadata": {
        "colab": {
          "base_uri": "https://localhost:8080/",
          "height": 447
        },
        "id": "xuDuv0Zr994G",
        "outputId": "ca6113fe-0260-4d3c-c929-07eb59f764c3"
      },
      "execution_count": null,
      "outputs": [
        {
          "output_type": "execute_result",
          "data": {
            "text/plain": [
              "[<matplotlib.lines.Line2D at 0x7f9323fe1ae0>]"
            ]
          },
          "metadata": {},
          "execution_count": 112
        },
        {
          "output_type": "display_data",
          "data": {
            "text/plain": [
              "<Figure size 640x480 with 1 Axes>"
            ],
            "image/png": "[encoded data removed]"
          },
          "metadata": {}
        }
      ]
    },
    {
      "cell_type": "code",
      "source": [
        "model_cnn_dropout = nn.Sequential(\n",
        "    nn.Conv2d(in_channels = 1, out_channels = 32, kernel_size = 5, padding = 2),\n",
        "    nn.MaxPool2d(2),\n",
        "    nn.Flatten(),\n",
        "    nn.Linear(6272,100),\n",
        "    nn.ReLU(),\n",
        "    nn.Dropout(.5),\n",
        "    nn.Linear(100,10),\n",
        "    nn.Softmax()\n",
        ")\n",
        "optimizer_d = optim.SGD(model_cnn_dropout.parameters(), lr=0.01, momentum=0.9)"
      ],
      "metadata": {
        "id": "Sv4Nr5OQ-HJ2"
      },
      "execution_count": null,
      "outputs": []
    },
    {
      "cell_type": "code",
      "source": [
        "epochs = 50\n",
        "t_accuracy_10 = []\n",
        "v_accuracy_10 = []\n",
        "total_samples_train = 0\n",
        "total_correct_train = 0\n",
        "total_correct_val = 0\n",
        "total_samples_val = 0\n",
        "for j in tqdm(range(epochs)):\n",
        "  correct = 0\n",
        "  model_cnn_dropout.train()\n",
        "  for inputs, labels in trainloader_2:\n",
        "    optimizer_d.zero_grad()\n",
        "    log_ps = model_cnn_dropout(images)\n",
        "    loss = criterion(log_ps,labels)\n",
        "    loss.backward()\n",
        "    optimizer_d.step()\n",
        "    _, predicted = torch.max(outputs, 1)\n",
        "    total_samples_train += labels.size(0)\n",
        "    total_correct_train += (predicted == labels).sum().item()\n",
        "  train_accuracy = total_correct_train / total_samples_train\n",
        "  if j%10 == 0 and j != 0:\n",
        "    t_accuracy_10.append(train_accuracy)\n",
        "    model_cnn_dropout.eval()\n",
        "    with torch.no_grad():\n",
        "        for inputs, labels in validloader:\n",
        "          outputs = model_cnn_dropout(inputs)\n",
        "          _, predicted = torch.max(outputs, 1)\n",
        "          total_samples_val += labels.size(0)\n",
        "          total_correct_val += (predicted == labels).sum().item()\n",
        "\n",
        "    val_accuracy = total_correct_val / total_samples_val\n",
        "    v_accuracy_10.append(val_accuracy)"
      ],
      "metadata": {
        "colab": {
          "base_uri": "https://localhost:8080/"
        },
        "id": "Ip2rEKqD-ZSe",
        "outputId": "9d5735b7-a508-4406-efd4-64be9bc02f3c"
      },
      "execution_count": null,
      "outputs": [
        {
          "output_type": "stream",
          "name": "stderr",
          "text": [
            "\r  0%|          | 0/50 [00:00<?, ?it/s]/usr/local/lib/python3.10/dist-packages/torch/nn/modules/module.py:1518: UserWarning: Implicit dimension choice for softmax has been deprecated. Change the call to include dim=X as an argument.\n",
            "  return self._call_impl(*args, **kwargs)\n",
            "100%|██████████| 50/50 [04:44<00:00,  5.69s/it]\n"
          ]
        }
      ]
    },
    {
      "cell_type": "code",
      "source": [
        "plt.plot(t_accuracy_10)"
      ],
      "metadata": {
        "colab": {
          "base_uri": "https://localhost:8080/",
          "height": 450
        },
        "id": "R2xtAwBE-yV2",
        "outputId": "10c8d757-ecdc-4e96-ed6d-a652421ed30d"
      },
      "execution_count": null,
      "outputs": [
        {
          "output_type": "execute_result",
          "data": {
            "text/plain": [
              "[<matplotlib.lines.Line2D at 0x7f9323fe2290>]"
            ]
          },
          "metadata": {},
          "execution_count": 119
        },
        {
          "output_type": "display_data",
          "data": {
            "text/plain": [
              "<Figure size 640x480 with 1 Axes>"
            ],
            "image/png": "[encoded data removed]"
          },
          "metadata": {}
        }
      ]
    },
    {
      "cell_type": "code",
      "source": [
        "plt.plot(v_accuracy_10)"
      ],
      "metadata": {
        "colab": {
          "base_uri": "https://localhost:8080/",
          "height": 447
        },
        "id": "kcnM_xXiAxZu",
        "outputId": "1785e2a8-c16a-4c5c-d50a-03b705e527ea"
      },
      "execution_count": null,
      "outputs": [
        {
          "output_type": "execute_result",
          "data": {
            "text/plain": [
              "[<matplotlib.lines.Line2D at 0x7f92ec309c00>]"
            ]
          },
          "metadata": {},
          "execution_count": 120
        },
        {
          "output_type": "display_data",
          "data": {
            "text/plain": [
              "<Figure size 640x480 with 1 Axes>"
            ],
            "image/png": "[encoded data removed]"
          },
          "metadata": {}
        }
      ]
    },
    {
      "cell_type": "code",
      "source": [
        "model_d2 = nn.Sequential(\n",
        "    nn.Conv2d(in_channels = 1, out_channels = 32, kernel_size = 5, padding = 2),\n",
        "    nn.MaxPool2d(2),\n",
        "    nn.Conv2d(in_channels = 32, out_channels = 64, kernel_size = 5, padding = 2),\n",
        "    nn.MaxPool2d(2),\n",
        "    nn.Flatten(),\n",
        "    nn.Linear(3136,100),\n",
        "    nn.ReLU(),\n",
        "    nn.Dropout(.5),\n",
        "    nn.Linear(100,10),\n",
        "    nn.Softmax()\n",
        ")\n",
        "optimizer_2_2 = optim.SGD(model_d2.parameters(), lr=0.01, momentum=0.9)"
      ],
      "metadata": {
        "id": "lBZnIZdfAzZ7"
      },
      "execution_count": null,
      "outputs": []
    },
    {
      "cell_type": "code",
      "source": [
        "batch = next(iter(trainloader_2))\n",
        "print(batch[0].shape, batch[1].shape)"
      ],
      "metadata": {
        "colab": {
          "base_uri": "https://localhost:8080/"
        },
        "id": "w-BEGfVdClsS",
        "outputId": "87324e8a-5355-4709-c345-969d71c27dc7"
      },
      "execution_count": null,
      "outputs": [
        {
          "output_type": "stream",
          "name": "stdout",
          "text": [
            "torch.Size([32, 1, 28, 28]) torch.Size([32])\n"
          ]
        }
      ]
    },
    {
      "cell_type": "code",
      "source": [
        "criterion = nn.CrossEntropyLoss()\n",
        "epochs = 10\n",
        "model_d2.train()\n",
        "for j in tqdm(range(epochs)):\n",
        "  for inputs, labels in trainloader:\n",
        "    optimizer_2_2.zero_grad()\n",
        "    log_ps = model_d2(inputs)\n",
        "    loss = criterion(log_ps,labels)\n",
        "    loss.backward()\n",
        "    optimizer_2_2.step()"
      ],
      "metadata": {
        "colab": {
          "base_uri": "https://localhost:8080/"
        },
        "id": "GhB1KHkmBMgN",
        "outputId": "4123a422-a840-4272-81c8-0f65ffb13d64"
      },
      "execution_count": null,
      "outputs": [
        {
          "output_type": "stream",
          "name": "stderr",
          "text": [
            "100%|██████████| 10/10 [06:17<00:00, 37.76s/it]\n"
          ]
        }
      ]
    },
    {
      "cell_type": "code",
      "source": [
        "model_d2.eval()\n",
        "with torch.no_grad():\n",
        "  for images, labels in testloader:\n",
        "    outputs = model_d2(images)\n",
        "    _, predicted = torch.max(outputs, axis=1)\n",
        "    accuracy = (predicted.numpy() == labels.detach().numpy()).sum().item() / labels.shape[0]\n",
        "\n",
        "print(f\"Accuracy: {accuracy * 100:.2f}%\")"
      ],
      "metadata": {
        "colab": {
          "base_uri": "https://localhost:8080/"
        },
        "id": "iRgbIxpVBcnM",
        "outputId": "0c4e7371-c9d2-4adc-bceb-c7123859cc30"
      },
      "execution_count": null,
      "outputs": [
        {
          "output_type": "stream",
          "name": "stderr",
          "text": [
            "/usr/local/lib/python3.10/dist-packages/torch/nn/modules/module.py:1518: UserWarning: Implicit dimension choice for softmax has been deprecated. Change the call to include dim=X as an argument.\n",
            "  return self._call_impl(*args, **kwargs)\n"
          ]
        },
        {
          "output_type": "stream",
          "name": "stdout",
          "text": [
            "Accuracy: 87.50%\n"
          ]
        }
      ]
    },
    {
      "cell_type": "code",
      "source": [
        "optimizer_2_3 = optim.SGD(model_d2.parameters(), lr=0.001, momentum=0.9)\n",
        "criterion = nn.CrossEntropyLoss()\n",
        "epochs = 10\n",
        "model_d2.train()\n",
        "for j in tqdm(range(epochs)):\n",
        "  for inputs, labels in trainloader:\n",
        "    optimizer_2_3.zero_grad()\n",
        "    log_ps = model_d2(inputs)\n",
        "    loss = criterion(log_ps,labels)\n",
        "    loss.backward()\n",
        "    optimizer_2_3.step()"
      ],
      "metadata": {
        "colab": {
          "base_uri": "https://localhost:8080/"
        },
        "id": "4-PgyVfYB6Ne",
        "outputId": "e60f3e09-d21b-4abe-cb56-dda45b5f9d9d"
      },
      "execution_count": null,
      "outputs": [
        {
          "output_type": "stream",
          "name": "stderr",
          "text": [
            "\r  0%|          | 0/10 [00:00<?, ?it/s]/usr/local/lib/python3.10/dist-packages/torch/nn/modules/module.py:1518: UserWarning: Implicit dimension choice for softmax has been deprecated. Change the call to include dim=X as an argument.\n",
            "  return self._call_impl(*args, **kwargs)\n",
            "100%|██████████| 10/10 [08:29<00:00, 50.95s/it]\n"
          ]
        }
      ]
    },
    {
      "cell_type": "code",
      "source": [
        "model_d2.eval()\n",
        "with torch.no_grad():\n",
        "  for images, labels in testloader:\n",
        "    outputs = model_d2(images)\n",
        "    _, predicted = torch.max(outputs, axis=1)\n",
        "    accuracy = (predicted.numpy() == labels.detach().numpy()).sum().item() / labels.shape[0]\n",
        "\n",
        "print(f\"Accuracy: {accuracy * 100:.2f}%\")"
      ],
      "metadata": {
        "colab": {
          "base_uri": "https://localhost:8080/"
        },
        "id": "91817QX1MYWe",
        "outputId": "fac052f6-1387-48ac-9603-1912802b476b"
      },
      "execution_count": null,
      "outputs": [
        {
          "output_type": "stream",
          "name": "stdout",
          "text": [
            "Accuracy: 6.25%\n"
          ]
        }
      ]
    },
    {
      "cell_type": "code",
      "source": [
        "optimizer_2_4 = optim.SGD(model_d2.parameters(), lr=0.1, momentum=0.9)\n",
        "criterion = nn.CrossEntropyLoss()\n",
        "epochs = 10\n",
        "model_d2.train()\n",
        "for j in tqdm(range(epochs)):\n",
        "  for inputs, labels in trainloader:\n",
        "    optimizer_2_4.zero_grad()\n",
        "    log_ps = model_d2(inputs)\n",
        "    loss = criterion(log_ps,labels)\n",
        "    loss.backward()\n",
        "    optimizer_2_4.step()"
      ],
      "metadata": {
        "colab": {
          "base_uri": "https://localhost:8080/"
        },
        "id": "5fzCG7KhJL6K",
        "outputId": "f9d746ca-08fe-478b-dd70-29a265c01c13"
      },
      "execution_count": null,
      "outputs": [
        {
          "output_type": "stream",
          "name": "stderr",
          "text": [
            "100%|██████████| 10/10 [04:46<00:00, 28.67s/it]\n"
          ]
        }
      ]
    },
    {
      "cell_type": "code",
      "source": [
        "model_d2.eval()\n",
        "with torch.no_grad():\n",
        "  for images, labels in testloader:\n",
        "    outputs = model_d2(images)\n",
        "    _, predicted = torch.max(outputs, axis=1)\n",
        "    accuracy = (predicted.numpy() == labels.detach().numpy()).sum().item() / labels.shape[0]\n",
        "\n",
        "print(f\"Accuracy: {accuracy * 100:.2f}%\")"
      ],
      "metadata": {
        "colab": {
          "base_uri": "https://localhost:8080/"
        },
        "id": "EQ3UbNnoJPkv",
        "outputId": "ac123e5d-3022-4308-8472-6c290e63c92e"
      },
      "execution_count": null,
      "outputs": [
        {
          "output_type": "stream",
          "name": "stdout",
          "text": [
            "Accuracy: 6.25%\n"
          ]
        }
      ]
    }
  ]
}