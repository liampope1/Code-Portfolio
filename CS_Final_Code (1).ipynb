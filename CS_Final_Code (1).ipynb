{
  "nbformat": 4,
  "nbformat_minor": 0,
  "metadata": {
    "colab": {
      "provenance": []
    },
    "kernelspec": {
      "name": "python3",
      "display_name": "Python 3"
    },
    "language_info": {
      "name": "python"
    }
  },
  "cells": [
    {
      "cell_type": "code",
      "execution_count": null,
      "metadata": {
        "id": "SogDpIoaz8mw"
      },
      "outputs": [],
      "source": [
        "import tensorflow as tf\n",
        "from tensorflow.keras import datasets, layers, models\n",
        "import matplotlib.pyplot as plt\n",
        "import os\n",
        "from PIL import Image\n",
        "import numpy as np\n",
        "import pandas as pd\n",
        "from sklearn.model_selection import train_test_split"
      ]
    },
    {
      "cell_type": "code",
      "source": [
        "from google.colab import drive\n",
        "drive.mount('/content/drive',force_remount = True)"
      ],
      "metadata": {
        "colab": {
          "base_uri": "https://localhost:8080/"
        },
        "id": "cST2HZcr0Rkf",
        "outputId": "0fcc3ea0-4fef-432d-da2e-3b78879a7967"
      },
      "execution_count": null,
      "outputs": [
        {
          "output_type": "stream",
          "name": "stdout",
          "text": [
            "Mounted at /content/drive\n"
          ]
        }
      ]
    },
    {
      "cell_type": "code",
      "source": [
        "# Define the CNN model\n",
        "model = models.Sequential()\n",
        "model.add(layers.Conv2D(32, (3, 3), activation='relu', input_shape=(32, 32, 3)))\n",
        "model.add(layers.MaxPooling2D((2, 2)))\n",
        "model.add(layers.Conv2D(64, (3, 3), activation='relu'))\n",
        "model.add(layers.MaxPooling2D((2, 2)))\n",
        "model.add(layers.Conv2D(64, (3, 3), activation='relu'))\n",
        "\n",
        "# Add Dense layers on top\n",
        "model.add(layers.Flatten())\n",
        "model.add(layers.Dense(64, activation='relu'))\n",
        "model.add(layers.Dense(10))\n",
        "\n",
        "# Compile the model\n",
        "model.compile(optimizer='adam',\n",
        "              loss=tf.keras.losses.SparseCategoricalCrossentropy(from_logits=True),\n",
        "              metrics=['accuracy'])"
      ],
      "metadata": {
        "id": "cPNFc_q_0C_m"
      },
      "execution_count": null,
      "outputs": []
    },
    {
      "cell_type": "code",
      "source": [
        "def load_and_preprocess_image(path):\n",
        "    with Image.open(path) as img:\n",
        "        img = img.resize((32, 32)).convert('RGB')  # Resize and convert to RGB\n",
        "        img_array = np.array(img) / 255.0  # Normalize to 0-1 range\n",
        "        return img_array\n",
        "\n",
        "image_folder = '/content/drive/My Drive/CS final/Base11'\n",
        "image_files = os.listdir(image_folder)\n",
        "\n",
        "images = []\n",
        "for file in image_files:\n",
        "    file_path = os.path.join(image_folder, file)\n",
        "    img_array = load_and_preprocess_image(file_path)\n",
        "    images.append(img_array)\n",
        "\n",
        "images = np.array(images)"
      ],
      "metadata": {
        "id": "aDwRo0W10T8K"
      },
      "execution_count": null,
      "outputs": []
    },
    {
      "cell_type": "code",
      "source": [
        "train_path = os.path.join(os.getcwd(), \"drive\", \"My Drive\",\"CS final\",\"Annotation_Base11.xls\")"
      ],
      "metadata": {
        "id": "jImAiHPY1Y4d"
      },
      "execution_count": null,
      "outputs": []
    },
    {
      "cell_type": "code",
      "source": [
        "train_labels = pd.read_excel(train_path)"
      ],
      "metadata": {
        "id": "E4o30haG3ISk"
      },
      "execution_count": null,
      "outputs": []
    },
    {
      "cell_type": "code",
      "source": [
        "train_labels.columns"
      ],
      "metadata": {
        "colab": {
          "base_uri": "https://localhost:8080/"
        },
        "id": "0d3jP1Re3WLH",
        "outputId": "06b128fd-f430-41d8-f41e-013c753c477f"
      },
      "execution_count": null,
      "outputs": [
        {
          "output_type": "execute_result",
          "data": {
            "text/plain": [
              "Index(['Image name', 'Ophthalmologic department', 'Retinopathy grade',\n",
              "       'Risk of macular edema '],\n",
              "      dtype='object')"
            ]
          },
          "metadata": {},
          "execution_count": 20
        }
      ]
    },
    {
      "cell_type": "code",
      "source": [
        "labels = np.array(train_labels[\"Risk of macular edema \"])"
      ],
      "metadata": {
        "id": "vOB0phE63XX4"
      },
      "execution_count": null,
      "outputs": []
    },
    {
      "cell_type": "code",
      "source": [
        "labels"
      ],
      "metadata": {
        "colab": {
          "base_uri": "https://localhost:8080/"
        },
        "id": "-rZxfNSQ3f1N",
        "outputId": "ab01b7c8-19b9-402c-b5fb-c9fb3ce542b1"
      },
      "execution_count": null,
      "outputs": [
        {
          "output_type": "execute_result",
          "data": {
            "text/plain": [
              "array([1, 0, 0, 0, 2, 0, 0, 0, 1, 0, 0, 2, 0, 0, 0, 0, 0, 0, 2, 1, 0, 0,\n",
              "       2, 2, 2, 2, 2, 2, 2, 2, 2, 2, 0, 0, 0, 0, 1, 2, 1, 1, 0, 0, 1, 2,\n",
              "       2, 0, 0, 0, 0, 0, 1, 2, 0, 0, 0, 0, 0, 0, 0, 0, 2, 0, 0, 0, 0, 2,\n",
              "       2, 0, 0, 2, 2, 0, 0, 0, 0, 0, 0, 0, 0, 2, 0, 0, 0, 2, 2, 0, 0, 1,\n",
              "       2, 0, 0, 0, 0, 0, 2, 2, 2, 0, 0, 0])"
            ]
          },
          "metadata": {},
          "execution_count": 22
        }
      ]
    },
    {
      "cell_type": "code",
      "source": [
        "X_train, X_test, y_train, y_test = train_test_split(images, labels, test_size=0.33, random_state=42)\n"
      ],
      "metadata": {
        "id": "zHzeiZv233tF"
      },
      "execution_count": null,
      "outputs": []
    },
    {
      "cell_type": "code",
      "source": [
        "history = model.fit(X_train, y_train, epochs=10, validation_data=(X_test, y_test))"
      ],
      "metadata": {
        "colab": {
          "base_uri": "https://localhost:8080/"
        },
        "id": "DDPc7Xcj4ODI",
        "outputId": "541ec898-270f-43b8-fa80-05ba9e3af15d"
      },
      "execution_count": null,
      "outputs": [
        {
          "output_type": "stream",
          "name": "stdout",
          "text": [
            "Epoch 1/10\n",
            "3/3 [==============================] - 0s 154ms/step - loss: 0.8830 - accuracy: 0.6716 - val_loss: 1.0307 - val_accuracy: 0.5152\n",
            "Epoch 2/10\n",
            "3/3 [==============================] - 0s 45ms/step - loss: 0.8819 - accuracy: 0.6716 - val_loss: 0.9422 - val_accuracy: 0.5152\n",
            "Epoch 3/10\n",
            "3/3 [==============================] - 0s 53ms/step - loss: 0.8521 - accuracy: 0.6716 - val_loss: 0.9370 - val_accuracy: 0.5152\n",
            "Epoch 4/10\n",
            "3/3 [==============================] - 0s 46ms/step - loss: 0.8573 - accuracy: 0.6716 - val_loss: 0.9453 - val_accuracy: 0.5152\n",
            "Epoch 5/10\n",
            "3/3 [==============================] - 0s 45ms/step - loss: 0.8951 - accuracy: 0.6716 - val_loss: 0.9366 - val_accuracy: 0.5152\n",
            "Epoch 6/10\n",
            "3/3 [==============================] - 0s 44ms/step - loss: 0.8853 - accuracy: 0.6716 - val_loss: 0.9336 - val_accuracy: 0.5152\n",
            "Epoch 7/10\n",
            "3/3 [==============================] - 0s 45ms/step - loss: 0.8479 - accuracy: 0.6716 - val_loss: 0.9585 - val_accuracy: 0.5152\n",
            "Epoch 8/10\n",
            "3/3 [==============================] - 0s 43ms/step - loss: 0.8298 - accuracy: 0.6716 - val_loss: 0.9848 - val_accuracy: 0.5152\n",
            "Epoch 9/10\n",
            "3/3 [==============================] - 0s 45ms/step - loss: 0.8195 - accuracy: 0.6716 - val_loss: 1.0758 - val_accuracy: 0.5152\n",
            "Epoch 10/10\n",
            "3/3 [==============================] - 0s 43ms/step - loss: 0.8368 - accuracy: 0.6716 - val_loss: 1.2355 - val_accuracy: 0.5152\n"
          ]
        }
      ]
    },
    {
      "cell_type": "code",
      "source": [
        "test_loss, test_acc = model.evaluate(X_test, y_test, verbose=2)\n",
        "print('\\nTest accuracy:', test_acc)"
      ],
      "metadata": {
        "colab": {
          "base_uri": "https://localhost:8080/"
        },
        "id": "5qbbamjt4Zji",
        "outputId": "17e7a7ef-5e64-4368-9d54-6e803679f08c"
      },
      "execution_count": null,
      "outputs": [
        {
          "output_type": "stream",
          "name": "stdout",
          "text": [
            "2/2 - 0s - loss: 1.2355 - accuracy: 0.5152 - 35ms/epoch - 17ms/step\n",
            "\n",
            "Test accuracy: 0.5151515007019043\n"
          ]
        }
      ]
    },
    {
      "cell_type": "markdown",
      "source": [
        "Conclusion: \\\\\n",
        "Using a subset of the Messidor macular edema data, I was able to achieve a training accuracy of .6716 and a testing accuracy of .515. While I was inable to recreate the results from the Abramoff et al. paper, somethings that could be done to improve these results would be using the whole dataset for training and testing and then increasing the depth of the CNN which would be difficult for my project given my device's capacity and the time constraints, but I think even an simple CNN could achieve decent accuracy on this dataset, which in turn proves that these datasets can be not only used in clinical practices but also improved upon even further than the Abramoff et al. study does."
      ],
      "metadata": {
        "id": "BajITJPE5G2m"
      }
    }
  ]
}